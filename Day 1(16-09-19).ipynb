{
 "cells": [
  {
   "cell_type": "markdown",
   "metadata": {},
   "source": [
    "# Python Programming and Markdown\n",
    "## Python Programming and Markdown\n",
    "### Python Programming and Markdown\n",
    "#### Python Programming and Markdown"
   ]
  },
  {
   "cell_type": "markdown",
   "metadata": {},
   "source": [
    "### Python Programming\n",
    "- Point 1"
   ]
  },
  {
   "cell_type": "markdown",
   "metadata": {},
   "source": [
    "### Points\n",
    "- Point 1\n",
    "- Point 2\n",
    "- Point 3"
   ]
  },
  {
   "cell_type": "markdown",
   "metadata": {},
   "source": [
    "### Points and Sub-Points\n",
    "- Point 1\n",
    "   - Point 1.1\n",
    "- Point 2\n",
    "   - Point 2.1\n",
    "   - Point 2.2\n",
    "- Point 3\n",
    "   - Point 3.1\n",
    "   - Point 3.2\n",
    "   - Point 3.3"
   ]
  },
  {
   "cell_type": "markdown",
   "metadata": {},
   "source": [
    "### Different Text Fonts\n",
    "- **Point1**\n",
    "- *Point2*\n",
    "- ***Point3***"
   ]
  },
  {
   "cell_type": "markdown",
   "metadata": {},
   "source": [
    "### Displaying an image\n",
    "<img src='Python.jpeg' />"
   ]
  },
  {
   "cell_type": "markdown",
   "metadata": {},
   "source": [
    "### Adding the website link to a markdown\n",
    "- My Site - [My Site][i]\n",
    "[i]:https://sites.google.com/view/gitam-vizag-121810308065/home"
   ]
  },
  {
   "cell_type": "markdown",
   "metadata": {},
   "source": [
    "### About Python\n",
    "- Python version 3.7\n",
    "- Functional Programming\n",
    "- Object Oriented Programming\n",
    "- Scripting Programming\n",
    "- ctrl+enter points to same cell\n",
    "- shift+enter points to next cell"
   ]
  },
  {
   "cell_type": "code",
   "execution_count": 4,
   "metadata": {},
   "outputs": [
    {
     "name": "stdout",
     "output_type": "stream",
     "text": [
      "Hello World\n"
     ]
    }
   ],
   "source": [
    "print ('Hello World')"
   ]
  },
  {
   "cell_type": "code",
   "execution_count": 6,
   "metadata": {},
   "outputs": [
    {
     "name": "stdout",
     "output_type": "stream",
     "text": [
      "Hello World\n",
      "Welcome to Vizag\n"
     ]
    }
   ],
   "source": [
    "print ('Hello World')\n",
    "print ('Welcome to Vizag')"
   ]
  },
  {
   "cell_type": "code",
   "execution_count": 10,
   "metadata": {},
   "outputs": [
    {
     "name": "stdout",
     "output_type": "stream",
     "text": [
      "Hello World Vizag\n"
     ]
    }
   ],
   "source": [
    "print('Hello World ',end='')\n",
    "print('Vizag')"
   ]
  },
  {
   "cell_type": "markdown",
   "metadata": {},
   "source": [
    "### Data Type and their conversions\n",
    "- int\n",
    "- float\n",
    "- string"
   ]
  },
  {
   "cell_type": "code",
   "execution_count": 18,
   "metadata": {},
   "outputs": [
    {
     "name": "stdout",
     "output_type": "stream",
     "text": [
      "1000\n",
      "<class 'int'>\n",
      "<class 'int'>\n",
      "<class 'str'>\n",
      "<class 'str'>\n",
      "<class 'str'>\n",
      "<class 'float'>\n",
      "c\n"
     ]
    }
   ],
   "source": [
    "a=1000\n",
    "b=1000000000000000\n",
    "s=\"Python Programming\"\n",
    "s1='Python Programming'\n",
    "c='c'\n",
    "f=12.34567890\n",
    "print(a)\n",
    "print(type(a))\n",
    "print(type(b))\n",
    "print(type(s))\n",
    "print(type(s1))\n",
    "print(type(c))\n",
    "print(type(f))\n",
    "print(c)"
   ]
  },
  {
   "cell_type": "markdown",
   "metadata": {},
   "source": [
    "### Data Type Conversions\n",
    "- int()\n",
    "- float()\n",
    "- str()"
   ]
  },
  {
   "cell_type": "code",
   "execution_count": 21,
   "metadata": {},
   "outputs": [
    {
     "name": "stdout",
     "output_type": "stream",
     "text": [
      "100 <class 'int'>\n",
      "100 <class 'str'>\n"
     ]
    }
   ],
   "source": [
    "a=100\n",
    "print(a,end=\" \")\n",
    "print(type(a))\n",
    "s1=str(a)\n",
    "print(s1,end=\" \")\n",
    "print(type(s1))"
   ]
  },
  {
   "cell_type": "code",
   "execution_count": 24,
   "metadata": {},
   "outputs": [
    {
     "name": "stdout",
     "output_type": "stream",
     "text": [
      "100 <class 'str'>\n",
      "<class 'int'> 100\n",
      "<class 'float'> 100.0\n",
      "<class 'int'> 100\n"
     ]
    }
   ],
   "source": [
    "s1=\"100\"\n",
    "print(s1,end=\" \")\n",
    "print(type(s1))\n",
    "a1=int(s1)\n",
    "b1=float(s1)\n",
    "print(type(a1),end=\" \")\n",
    "print(a1)\n",
    "print(type(b1),end=\" \")\n",
    "print(b1)\n",
    "a2=int(b1)\n",
    "print(type(a2),end=\" \")\n",
    "print(a2)"
   ]
  },
  {
   "cell_type": "code",
   "execution_count": 25,
   "metadata": {},
   "outputs": [
    {
     "name": "stdout",
     "output_type": "stream",
     "text": [
      "4\n"
     ]
    }
   ],
   "source": [
    "# Digit Count of a number\n",
    "a=1234\n",
    "print(len(str(a)))"
   ]
  },
  {
   "cell_type": "markdown",
   "metadata": {},
   "source": [
    "### Input() Function\n",
    "- Reads the input to the Python Program\n",
    "- Reads the input in the form of string format"
   ]
  },
  {
   "cell_type": "code",
   "execution_count": 26,
   "metadata": {},
   "outputs": [
    {
     "name": "stdout",
     "output_type": "stream",
     "text": [
      "Enter your nameWelcome to Gitam\n",
      "Welcome to Gitam <class 'str'>\n"
     ]
    }
   ],
   "source": [
    "s1=input('Enter your name')\n",
    "print(s1,type(s1))"
   ]
  },
  {
   "cell_type": "code",
   "execution_count": 2,
   "metadata": {},
   "outputs": [
    {
     "name": "stdout",
     "output_type": "stream",
     "text": [
      "Enter a number 59\n",
      "59\n"
     ]
    }
   ],
   "source": [
    "a1=int(input('Enter a number '))\n",
    "print(a1)"
   ]
  },
  {
   "cell_type": "code",
   "execution_count": 4,
   "metadata": {},
   "outputs": [
    {
     "name": "stdout",
     "output_type": "stream",
     "text": [
      "Enter a number 59\n",
      "59.0\n"
     ]
    }
   ],
   "source": [
    "a1=float(input('Enter a number '))\n",
    "print(a1)"
   ]
  },
  {
   "cell_type": "markdown",
   "metadata": {},
   "source": [
    "### Arithmetic Operators in Python\n",
    "- +\n",
    "- /\n",
    "- -\n",
    "- *\n",
    "- %(Remainder)\n",
    "- //(Integral Division i.e. output is only integer part )\n",
    "- **(Power Function)"
   ]
  },
  {
   "cell_type": "code",
   "execution_count": 9,
   "metadata": {},
   "outputs": [
    {
     "name": "stdout",
     "output_type": "stream",
     "text": [
      "13\n",
      "7\n",
      "3.3333333333333335\n",
      "30\n",
      "1\n",
      "3\n",
      "1000\n",
      "8.0\n",
      "8\n"
     ]
    }
   ],
   "source": [
    "print(10+3)\n",
    "print(10-3)\n",
    "print(10/3)\n",
    "print(10*3)\n",
    "print(10%3)\n",
    "print(10//3)\n",
    "print(10**3)\n",
    "x=1+2**3/4+5\n",
    "### first power takes place followed by the / where 8/4=2.0 is returned. finally the addition takes place. Hence we get the output as 8.0\n",
    "print(x)\n",
    "y=1+2**3//4+5\n",
    "### the order of precedence is same as the previous case.Since we use // operator the division returns only 8 and not 8.0\n",
    "print(y)"
   ]
  },
  {
   "cell_type": "markdown",
   "metadata": {},
   "source": [
    "### Logical Operators in Python\n",
    "- and\n",
    "- or \n",
    "- not\n",
    "- As compared to other languages such as c and c++ here the logical operators are represnted in text form rather than using their symbols"
   ]
  },
  {
   "cell_type": "code",
   "execution_count": 14,
   "metadata": {},
   "outputs": [
    {
     "name": "stdout",
     "output_type": "stream",
     "text": [
      "True <class 'bool'>\n",
      "False <class 'bool'>\n",
      "True <class 'bool'>\n",
      "False <class 'bool'>\n"
     ]
    }
   ],
   "source": [
    "a=10\n",
    "b=(a>9) and (a>=10)\n",
    "print(b,type(b))\n",
    "c=(a>9) and (a>100)\n",
    "print(c,type(c))\n",
    "d=(a>9) or (a>1000)\n",
    "print(d,type(d))\n",
    "e=not (a>9)\n",
    "print(e,type(e))\n",
    "#bool is another additional data type which has two values - true or false"
   ]
  },
  {
   "cell_type": "markdown",
   "metadata": {},
   "source": [
    "### Control Flow Statements\n",
    "- Conditional Statements\n",
    "   - If-Else\n",
    "- Looping Statements\n",
    "   - While\n",
    "   - For\n",
    "   - Do-While"
   ]
  },
  {
   "cell_type": "code",
   "execution_count": 16,
   "metadata": {},
   "outputs": [
    {
     "name": "stdout",
     "output_type": "stream",
     "text": [
      "Enter a number 12\n",
      "Even\n"
     ]
    }
   ],
   "source": [
    "a1=int(input(\"Enter a number \"))\n",
    "if a1%2==0:\n",
    "    print('Even')\n",
    "else:\n",
    "    print('Odd')"
   ]
  },
  {
   "cell_type": "code",
   "execution_count": 27,
   "metadata": {},
   "outputs": [
    {
     "name": "stdout",
     "output_type": "stream",
     "text": [
      "Enter a number 0\n",
      "Zero\n",
      "The number is neither positive or negative\n"
     ]
    }
   ],
   "source": [
    "a1=int(input(\"Enter a number \"))\n",
    "if a1==0:\n",
    "    print(\"Zero\")\n",
    "    print(\"The number is neither positive or negative\")\n",
    "elif a1>0:\n",
    "    print(\"Positive\")\n",
    "else:\n",
    "    print(\"Negative\")"
   ]
  },
  {
   "cell_type": "markdown",
   "metadata": {},
   "source": [
    "_Hello_"
   ]
  },
  {
   "cell_type": "code",
   "execution_count": null,
   "metadata": {},
   "outputs": [],
   "source": []
  },
  {
   "cell_type": "code",
   "execution_count": null,
   "metadata": {},
   "outputs": [],
   "source": []
  },
  {
   "cell_type": "code",
   "execution_count": null,
   "metadata": {},
   "outputs": [],
   "source": []
  },
  {
   "cell_type": "code",
   "execution_count": null,
   "metadata": {},
   "outputs": [],
   "source": []
  }
 ],
 "metadata": {
  "kernelspec": {
   "display_name": "Python 3",
   "language": "python",
   "name": "python3"
  },
  "language_info": {
   "codemirror_mode": {
    "name": "ipython",
    "version": 3
   },
   "file_extension": ".py",
   "mimetype": "text/x-python",
   "name": "python",
   "nbconvert_exporter": "python",
   "pygments_lexer": "ipython3",
   "version": "3.7.3"
  }
 },
 "nbformat": 4,
 "nbformat_minor": 2
}
